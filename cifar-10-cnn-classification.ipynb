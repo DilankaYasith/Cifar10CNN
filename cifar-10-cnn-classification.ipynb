{
  "cells": [
    {
      "cell_type": "markdown",
      "metadata": {
        "id": "XW3KiJRL0R5g"
      },
      "source": [
        "# Training a CNN on the CIFAR-10 dataset"
      ]
    },
    {
      "cell_type": "markdown",
      "metadata": {
        "id": "8IW706cm0R5i"
      },
      "source": [
        "#### Types of datasets when working with classifiers.\n",
        "- Image datasets\n",
        "- Text datasets\n",
        "- Audio datasets\n",
        "\n",
        "#### Data conversion / preprocessing.\n",
        "> Use a python packages that load data into a numpy array. Then you can convert this array into a torch.*Tensor\n",
        "\n",
        "#### Packages generally used.\n",
        "- Image datasets: Pillow, OpenCV\n",
        "- Text datasets: NLTK, SpaCy\n",
        "- Audio datasets: Librosa, SciPy"
      ]
    },
    {
      "cell_type": "markdown",
      "metadata": {
        "id": "KrXDTNYZ0R5j"
      },
      "source": [
        "### CIFAR-10 Dataset\n",
        "\n",
        "The CIFAR-10 dataset consists of 60000 32x32 colour images in 10 classes, with 6000 images per class. There are 50000 training images and 10000 test images.\n",
        "\n",
        "<img title=\"CIFAR10\" alt=\"CIFAR10 Classes\" src=\"https://github.com/DilankaYasith/Cifar10CNN/blob/main/images/cifar-classes.png?raw=1\">"
      ]
    },
    {
      "cell_type": "markdown",
      "metadata": {
        "id": "b-RKatLQ0R5j"
      },
      "source": [
        "### Traing an image classifier for CIFAR-10 dataset\n",
        "\n",
        "1. Load and normalize the CIFAR10 training and test datasets using torchvision\n",
        "2. Define a Convolutional Neural Network\n",
        "3. Define a loss function\n",
        "4. Train the network on the training data\n",
        "5. Test the network on the test data\n"
      ]
    },
    {
      "cell_type": "code",
      "execution_count": 1,
      "metadata": {
        "id": "QLzXbPlm0R5k"
      },
      "outputs": [],
      "source": [
        "import torch\n",
        "import torchvision\n",
        "import torchvision.transforms as transforms\n",
        "import numpy as np\n",
        "import matplotlib.pyplot as plt"
      ]
    },
    {
      "cell_type": "code",
      "execution_count": 2,
      "metadata": {
        "id": "zl7JdN5F0R5m",
        "outputId": "825012e5-2172-4690-a59b-aa3f47aa391a",
        "colab": {
          "base_uri": "https://localhost:8080/"
        }
      },
      "outputs": [
        {
          "output_type": "stream",
          "name": "stdout",
          "text": [
            "GPU is available\n"
          ]
        }
      ],
      "source": [
        "is_cuda = torch.cuda.is_available()\n",
        "is_mps = torch.backends.mps.is_available()\n",
        "\n",
        "# If we have a GPU available, we'll set our device to GPU.\n",
        "# We'll use this device variable later in our code.\n",
        "if is_cuda:\n",
        "    device = torch.device(\"cuda\")\n",
        "    print(\"GPU is available\")\n",
        "elif is_mps:\n",
        "    device = torch.device(\"mps\")\n",
        "    print(\"MPS is available\")\n",
        "else:\n",
        "    device = torch.device(\"cpu\")\n",
        "    print(\"GPU not available, CPU used\")"
      ]
    },
    {
      "cell_type": "markdown",
      "metadata": {
        "id": "rdQP2Asj0R5n"
      },
      "source": [
        "Let’s start by loading and then pre-processing the data. For our purposes, we will be using the CIFAR-10 dataset. The dataset consists of 60000 32x32 colour images in 10 classes, with 6000 images per class. There are 50000 training images and 10000 test images."
      ]
    },
    {
      "cell_type": "code",
      "execution_count": 3,
      "metadata": {
        "id": "Vh2S5ewQ0R5n",
        "outputId": "82966304-bc74-4a9b-c297-7bb6ee5bc928",
        "colab": {
          "base_uri": "https://localhost:8080/"
        }
      },
      "outputs": [
        {
          "output_type": "stream",
          "name": "stdout",
          "text": [
            "Downloading https://www.cs.toronto.edu/~kriz/cifar-10-python.tar.gz to ./data/cifar-10-python.tar.gz\n"
          ]
        },
        {
          "output_type": "stream",
          "name": "stderr",
          "text": [
            "100%|██████████| 170M/170M [00:13<00:00, 12.9MB/s]\n"
          ]
        },
        {
          "output_type": "stream",
          "name": "stdout",
          "text": [
            "Extracting ./data/cifar-10-python.tar.gz to ./data\n",
            "Files already downloaded and verified\n"
          ]
        }
      ],
      "source": [
        "# The output of torchvision datasets are PILImage images of range [0, 1].\n",
        "# Transform them to Tensors of normalized range [-1, 1].\n",
        "transform = transforms.Compose(\n",
        "    [transforms.ToTensor(),\n",
        "    transforms.Normalize((.5, .5, .5), (.5, .5, .5))])\n",
        "\n",
        "batch_size = 4\n",
        "\n",
        "trainset = torchvision.datasets.CIFAR10(\n",
        "    root='./data',\n",
        "    train=True,\n",
        "    download=True,\n",
        "    transform=transform\n",
        ")\n",
        "\n",
        "testset = torchvision.datasets.CIFAR10(\n",
        "    root='./data',\n",
        "    train=False,\n",
        "    download=True,\n",
        "    transform=transform\n",
        ")\n",
        "\n",
        "trainloader = torch.utils.data.DataLoader(\n",
        "    trainset,\n",
        "    batch_size=batch_size,\n",
        "    shuffle=True,\n",
        "    num_workers=2\n",
        ")\n",
        "\n",
        "testloader = torch.utils.data.DataLoader(\n",
        "    testset,\n",
        "    batch_size=batch_size,\n",
        "    shuffle=False,\n",
        "    num_workers=2\n",
        ")\n",
        "\n",
        "classes = ('plane', 'car', 'bird', 'cat', 'deer',\n",
        "            'dog', 'frog', 'horse', 'ship', 'truck')"
      ]
    },
    {
      "cell_type": "code",
      "execution_count": 4,
      "metadata": {
        "id": "GTVVW_qt0R5o",
        "outputId": "8c4a55b8-73c1-4545-92f9-96c53f3c0f2e",
        "colab": {
          "base_uri": "https://localhost:8080/",
          "height": 210
        }
      },
      "outputs": [
        {
          "output_type": "display_data",
          "data": {
            "text/plain": [
              "<Figure size 640x480 with 1 Axes>"
            ],
            "image/png": "[encoded data removed]"
          },
          "metadata": {}
        },
        {
          "output_type": "stream",
          "name": "stdout",
          "text": [
            "car   truck car   deer \n"
          ]
        }
      ],
      "source": [
        "# Print training images\n",
        "import matplotlib.pyplot as plt\n",
        "import numpy as np\n",
        "\n",
        "# Function to show image\n",
        "def imshow(img):\n",
        "    img = img / 2 + 0.5     # unnormalize\n",
        "    npimg = img.numpy()\n",
        "    plt.imshow(np.transpose(npimg, (1, 2, 0)))\n",
        "    plt.show()\n",
        "\n",
        "# Get a random training image\n",
        "dataiter = iter(trainloader)\n",
        "images, labels = next(dataiter)\n",
        "\n",
        "# Plot image\n",
        "imshow(torchvision.utils.make_grid(images))\n",
        "# Print labels\n",
        "print(' '.join(f'{classes[labels[j]]:5s}' for j in range(batch_size)))"
      ]
    },
    {
      "cell_type": "code",
      "execution_count": 5,
      "metadata": {
        "id": "F2wCHD7f0R5o"
      },
      "outputs": [],
      "source": [
        "import torch.nn as nn\n",
        "import torch.nn.functional as F\n",
        "\n",
        "class CNNet(nn.Module):\n",
        "    def __init__(self):\n",
        "        super(CNNet, self).__init__()\n",
        "        self.conv1 = nn.Conv2d(3, 6, kernel_size=5)\n",
        "        self.pool = nn.MaxPool2d(2, 2)\n",
        "        self.conv2 = nn.Conv2d(6, 16, kernel_size=5)\n",
        "        self.fc1 = nn.Linear(16 * 5 * 5, 120)\n",
        "        self.fc2 = nn.Linear(120, 64)\n",
        "        self.fc3 = nn.Linear(64, 10)\n",
        "\n",
        "    def forward(self, x):\n",
        "        x = self.pool(F.relu(self.conv1(x)))\n",
        "        x = self.pool(F.relu(self.conv2(x)))\n",
        "        x = torch.flatten(x, 1)\n",
        "        x = F.relu(self.fc1(x))\n",
        "        x = F.relu(self.fc2(x))\n",
        "        x = self.fc3(x)\n",
        "        return x\n",
        "\n",
        "model = CNNet().to(device)"
      ]
    },
    {
      "cell_type": "markdown",
      "metadata": {
        "id": "eIOSPjSG0R5o"
      },
      "source": [
        "### 3. Define loss function and optimizer"
      ]
    },
    {
      "cell_type": "code",
      "execution_count": 6,
      "metadata": {
        "id": "2v1oELbs0R5o"
      },
      "outputs": [],
      "source": [
        "import torch.optim as optim\n",
        "\n",
        "criterion = nn.CrossEntropyLoss()\n",
        "optimizer = optim.SGD(model.parameters(), lr=0.001, momentum=0.9)"
      ]
    },
    {
      "cell_type": "markdown",
      "metadata": {
        "id": "Z2KoVhUk0R5o"
      },
      "source": [
        "### 4. Train the Network"
      ]
    },
    {
      "cell_type": "code",
      "execution_count": 7,
      "metadata": {
        "id": "5Th0RkjC0R5p",
        "outputId": "05e50578-a26d-417b-f4bd-03fcd304fbaf",
        "colab": {
          "base_uri": "https://localhost:8080/"
        }
      },
      "outputs": [
        {
          "output_type": "stream",
          "name": "stdout",
          "text": [
            "Epoch [1/2], Step [2000/12500], Loss: 5.2469\n",
            "Epoch [1/2], Step [4000/12500], Loss: 2.8997\n",
            "Epoch [1/2], Step [6000/12500], Loss: 3.9868\n",
            "Epoch [1/2], Step [8000/12500], Loss: 3.3094\n",
            "Epoch [1/2], Step [10000/12500], Loss: 4.4638\n",
            "Epoch [1/2], Step [12000/12500], Loss: 4.3493\n",
            "Epoch [2/2], Step [2000/12500], Loss: 2.1356\n",
            "Epoch [2/2], Step [4000/12500], Loss: 5.3287\n",
            "Epoch [2/2], Step [6000/12500], Loss: 3.0608\n",
            "Epoch [2/2], Step [8000/12500], Loss: 2.8862\n",
            "Epoch [2/2], Step [10000/12500], Loss: 1.7369\n",
            "Epoch [2/2], Step [12000/12500], Loss: 1.1096\n",
            "Finished Training\n"
          ]
        }
      ],
      "source": [
        "total_step = len(trainloader)\n",
        "epochs = 2\n",
        "for epoch in range(epochs):\n",
        "    loss = 0.0\n",
        "    for i, data in enumerate(trainloader, 0):\n",
        "        # list of [inputs, ground truth labels]\n",
        "        inputs, gt_labels = data[0].to(device), data[1].to(device)\n",
        "\n",
        "        # reset parameter gradients\n",
        "        optimizer.zero_grad()\n",
        "\n",
        "        # get predictions\n",
        "        predictions = model(inputs)\n",
        "        # calculate loss\n",
        "        loss = criterion(predictions, gt_labels)\n",
        "        # backpropagate\n",
        "        loss.backward()\n",
        "        # update weights\n",
        "        optimizer.step()\n",
        "\n",
        "        # print loss\n",
        "        loss += loss.item()\n",
        "        if i % 2000 == 1999: # print every 2000 mini-batches\n",
        "            print('Epoch [{}/{}], Step [{}/{}], Loss: {:.4f}'\n",
        "                       .format(epoch+1, epochs, i+1, total_step, loss))\n",
        "            loss = 0.0\n",
        "\n",
        "print('Finished Training')"
      ]
    },
    {
      "cell_type": "markdown",
      "metadata": {
        "id": "wJp_oVmu0R5p"
      },
      "source": [
        "### Save the mode"
      ]
    },
    {
      "cell_type": "code",
      "execution_count": 11,
      "metadata": {
        "id": "5hRFxEOk0R5p"
      },
      "outputs": [],
      "source": [
        "PATH = \"./cifar_net.pth\"\n",
        "torch.save(model.state_dict(), PATH)"
      ]
    },
    {
      "cell_type": "markdown",
      "metadata": {
        "id": "w0nyYGWd0R5p"
      },
      "source": [
        "### 5. Test the model on test data"
      ]
    },
    {
      "cell_type": "code",
      "execution_count": 12,
      "metadata": {
        "id": "jB6m2Mrz0R5p",
        "outputId": "35f9f8ac-1758-47f5-f81f-613148ca6ce6",
        "colab": {
          "base_uri": "https://localhost:8080/",
          "height": 210
        }
      },
      "outputs": [
        {
          "output_type": "display_data",
          "data": {
            "text/plain": [
              "<Figure size 640x480 with 1 Axes>"
            ],
            "image/png": "[encoded data removed]"
          },
          "metadata": {}
        },
        {
          "output_type": "stream",
          "name": "stdout",
          "text": [
            "GroundTruth:    cat  ship  ship plane\n"
          ]
        }
      ],
      "source": [
        "dataiter = iter(testloader)\n",
        "test_images, gt_labels = next(dataiter)\n",
        "\n",
        "#print images\n",
        "\n",
        "imshow(torchvision.utils.make_grid(test_images))\n",
        "print('GroundTruth: ', ' '.join('%5s' % classes[gt_labels[j]] for j in range(4)))"
      ]
    },
    {
      "cell_type": "code",
      "execution_count": 22,
      "metadata": {
        "id": "MJbS4WEY0R5p",
        "outputId": "a8fdc974-bde5-45a2-fbb0-9d4987a1134d",
        "colab": {
          "base_uri": "https://localhost:8080/"
        }
      },
      "outputs": [
        {
          "output_type": "stream",
          "name": "stderr",
          "text": [
            "<ipython-input-22-58ee2506a019>:3: FutureWarning: You are using `torch.load` with `weights_only=False` (the current default value), which uses the default pickle module implicitly. It is possible to construct malicious pickle data which will execute arbitrary code during unpickling (See https://github.com/pytorch/pytorch/blob/main/SECURITY.md#untrusted-models for more details). In a future release, the default value for `weights_only` will be flipped to `True`. This limits the functions that could be executed during unpickling. Arbitrary objects will no longer be allowed to be loaded via this mode unless they are explicitly allowlisted by the user via `torch.serialization.add_safe_globals`. We recommend you start setting `weights_only=True` for any use case where you don't have full control of the loaded file. Please open an issue on GitHub for any issues related to this experimental feature.\n",
            "  model_inf.load_state_dict(torch.load('cifar_net_inference.pth'))\n"
          ]
        },
        {
          "output_type": "execute_result",
          "data": {
            "text/plain": [
              "CNNet(\n",
              "  (conv1): Conv2d(3, 6, kernel_size=(5, 5), stride=(1, 1))\n",
              "  (pool): MaxPool2d(kernel_size=2, stride=2, padding=0, dilation=1, ceil_mode=False)\n",
              "  (conv2): Conv2d(6, 16, kernel_size=(5, 5), stride=(1, 1))\n",
              "  (fc1): Linear(in_features=400, out_features=120, bias=True)\n",
              "  (fc2): Linear(in_features=120, out_features=64, bias=True)\n",
              "  (fc3): Linear(in_features=64, out_features=10, bias=True)\n",
              ")"
            ]
          },
          "metadata": {},
          "execution_count": 22
        }
      ],
      "source": [
        "model_inf = CNNet().to(device)\n",
        "model_inf.to(device)\n",
        "model_inf.load_state_dict(torch.load('cifar_net_inference.pth'))\n",
        "model_inf.eval()"
      ]
    },
    {
      "cell_type": "code",
      "execution_count": 23,
      "metadata": {
        "id": "n2OayM4B0R5p"
      },
      "outputs": [],
      "source": [
        "test_predictions = model_inf(test_images.to(device))"
      ]
    },
    {
      "cell_type": "code",
      "execution_count": 24,
      "metadata": {
        "id": "K3PQjOiZ0R5q",
        "outputId": "58daf0d8-6246-4299-b6b2-ca23d362fc52",
        "colab": {
          "base_uri": "https://localhost:8080/"
        }
      },
      "outputs": [
        {
          "output_type": "stream",
          "name": "stdout",
          "text": [
            "Predicted:  cat   ship  ship  ship \n"
          ]
        }
      ],
      "source": [
        "_, predicted = torch.max(test_predictions, 1)\n",
        "\n",
        "print('Predicted: ', ' '.join(f'{classes[predicted[j]]:5s}' for j in range(4)))"
      ]
    },
    {
      "cell_type": "code",
      "execution_count": 26,
      "metadata": {
        "id": "NDRKVZa20R5q",
        "outputId": "95900af1-a0c0-4e2b-bfb1-b7827066e537",
        "colab": {
          "base_uri": "https://localhost:8080/"
        }
      },
      "outputs": [
        {
          "output_type": "stream",
          "name": "stdout",
          "text": [
            "Accuracy for class: plane is 59.2000000000000028421709430404007434844970703125 %\n",
            "Accuracy for class: car   is 65.2000000000000028421709430404007434844970703125 %\n",
            "Accuracy for class: bird  is 23.60000000000000142108547152020037174224853515625 %\n",
            "Accuracy for class: cat   is 30.699999999999999289457264239899814128875732421875 %\n",
            "Accuracy for class: deer  is 56.7000000000000028421709430404007434844970703125 %\n",
            "Accuracy for class: dog   is 39.5 %\n",
            "Accuracy for class: frog  is 77.7999999999999971578290569595992565155029296875 %\n",
            "Accuracy for class: horse is 63.2999999999999971578290569595992565155029296875 %\n",
            "Accuracy for class: ship  is 76.400000000000005684341886080801486968994140625 %\n",
            "Accuracy for class: truck is 62.2999999999999971578290569595992565155029296875 %\n"
          ]
        }
      ],
      "source": [
        "# dictionary to store predictions of each class\n",
        "correct_pred = {classname: 0 for classname in classes}\n",
        "total_pred = {classname: 0 for classname in classes}\n",
        "\n",
        "# since prediction no gradient are needed\n",
        "with torch.no_grad():\n",
        "    for data in testloader:\n",
        "        images, labels = data[0].to(device), data[1].to(device)\n",
        "        predictions = model_inf(images)\n",
        "        _, predictions = torch.max(predictions, 1)\n",
        "\n",
        "        # collect the correct predictions for each class\n",
        "        for label, prediction in zip(labels, predictions):\n",
        "            if label == prediction:\n",
        "                correct_pred[classes[label]] += 1\n",
        "            total_pred[classes[label]] += 1\n",
        "\n",
        "# Accuracy for each class\n",
        "for classname, correct_count in correct_pred.items():\n",
        "    accuracy = 100 * float(correct_count) / total_pred[classname]\n",
        "    print(f'Accuracy for class: {classname:5s} is 100 %')"
      ]
    }
  ],
  "metadata": {
    "kernelspec": {
      "display_name": "Python 3",
      "name": "python3"
    },
    "language_info": {
      "codemirror_mode": {
        "name": "ipython",
        "version": 3
      },
      "file_extension": ".py",
      "mimetype": "text/x-python",
      "name": "python",
      "nbconvert_exporter": "python",
      "pygments_lexer": "ipython3",
      "version": "3.12.7"
    },
    "colab": {
      "provenance": [],
      "gpuType": "T4"
    },
    "accelerator": "GPU"
  },
  "nbformat": 4,
  "nbformat_minor": 0
}